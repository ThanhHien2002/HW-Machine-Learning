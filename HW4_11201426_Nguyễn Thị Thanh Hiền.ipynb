{
  "cells": [
    {
      "cell_type": "code",
      "execution_count": null,
      "id": "d9186104",
      "metadata": {
        "id": "d9186104"
      },
      "outputs": [],
      "source": [
        "import pandas as pd\n",
        "import numpy as np\n",
        "import matplotlib.pyplot as plt"
      ]
    },
    {
      "cell_type": "markdown",
      "source": [
        "***Exercise 1***"
      ],
      "metadata": {
        "id": "gbZt5VykLilB"
      },
      "id": "gbZt5VykLilB"
    },
    {
      "cell_type": "code",
      "execution_count": null,
      "id": "63c0ec11",
      "metadata": {
        "colab": {
          "base_uri": "https://localhost:8080/",
          "height": 990
        },
        "id": "63c0ec11",
        "outputId": "42157699-1c6f-4370-87a2-e509d7206dc8"
      },
      "outputs": [
        {
          "output_type": "execute_result",
          "data": {
            "text/plain": [
              "        Area      Price\n",
              "0    30.0000  -100.0000\n",
              "1    32.4138  -190.7250\n",
              "2    34.8276  -269.7980\n",
              "3    37.2414  -337.2180\n",
              "4    39.6552  -392.9850\n",
              "5    42.0690  -437.0990\n",
              "6    44.4828  -469.5600\n",
              "7    46.8966  -490.3690\n",
              "8    49.3103  -499.5240\n",
              "9    51.7241  -497.0270\n",
              "10   54.1379  -482.8780\n",
              "11   56.5517  -457.0750\n",
              "12   58.9655  -419.6200\n",
              "13   61.3793  -370.5110\n",
              "14   63.7931  -309.7500\n",
              "15   66.2069  -237.3370\n",
              "16   68.6207  -153.2700\n",
              "17   71.0345   -57.5505\n",
              "18   73.4483    49.8216\n",
              "19   75.8621   168.8470\n",
              "20   78.2759   299.5240\n",
              "21   80.6897   441.8550\n",
              "22   83.1034   595.8380\n",
              "23   85.5172   761.4740\n",
              "24   87.9310   938.7630\n",
              "25   90.3448  1127.7100\n",
              "26   92.7586  1328.3000\n",
              "27   95.1724  1540.5500\n",
              "28   97.5862  1764.4500\n",
              "29  100.0000  2000.0000"
            ],
            "text/html": [
              "\n",
              "  <div id=\"df-7c895d78-95d5-4588-b253-2a29c14f4831\">\n",
              "    <div class=\"colab-df-container\">\n",
              "      <div>\n",
              "<style scoped>\n",
              "    .dataframe tbody tr th:only-of-type {\n",
              "        vertical-align: middle;\n",
              "    }\n",
              "\n",
              "    .dataframe tbody tr th {\n",
              "        vertical-align: top;\n",
              "    }\n",
              "\n",
              "    .dataframe thead th {\n",
              "        text-align: right;\n",
              "    }\n",
              "</style>\n",
              "<table border=\"1\" class=\"dataframe\">\n",
              "  <thead>\n",
              "    <tr style=\"text-align: right;\">\n",
              "      <th></th>\n",
              "      <th>Area</th>\n",
              "      <th>Price</th>\n",
              "    </tr>\n",
              "  </thead>\n",
              "  <tbody>\n",
              "    <tr>\n",
              "      <th>0</th>\n",
              "      <td>30.0000</td>\n",
              "      <td>-100.0000</td>\n",
              "    </tr>\n",
              "    <tr>\n",
              "      <th>1</th>\n",
              "      <td>32.4138</td>\n",
              "      <td>-190.7250</td>\n",
              "    </tr>\n",
              "    <tr>\n",
              "      <th>2</th>\n",
              "      <td>34.8276</td>\n",
              "      <td>-269.7980</td>\n",
              "    </tr>\n",
              "    <tr>\n",
              "      <th>3</th>\n",
              "      <td>37.2414</td>\n",
              "      <td>-337.2180</td>\n",
              "    </tr>\n",
              "    <tr>\n",
              "      <th>4</th>\n",
              "      <td>39.6552</td>\n",
              "      <td>-392.9850</td>\n",
              "    </tr>\n",
              "    <tr>\n",
              "      <th>5</th>\n",
              "      <td>42.0690</td>\n",
              "      <td>-437.0990</td>\n",
              "    </tr>\n",
              "    <tr>\n",
              "      <th>6</th>\n",
              "      <td>44.4828</td>\n",
              "      <td>-469.5600</td>\n",
              "    </tr>\n",
              "    <tr>\n",
              "      <th>7</th>\n",
              "      <td>46.8966</td>\n",
              "      <td>-490.3690</td>\n",
              "    </tr>\n",
              "    <tr>\n",
              "      <th>8</th>\n",
              "      <td>49.3103</td>\n",
              "      <td>-499.5240</td>\n",
              "    </tr>\n",
              "    <tr>\n",
              "      <th>9</th>\n",
              "      <td>51.7241</td>\n",
              "      <td>-497.0270</td>\n",
              "    </tr>\n",
              "    <tr>\n",
              "      <th>10</th>\n",
              "      <td>54.1379</td>\n",
              "      <td>-482.8780</td>\n",
              "    </tr>\n",
              "    <tr>\n",
              "      <th>11</th>\n",
              "      <td>56.5517</td>\n",
              "      <td>-457.0750</td>\n",
              "    </tr>\n",
              "    <tr>\n",
              "      <th>12</th>\n",
              "      <td>58.9655</td>\n",
              "      <td>-419.6200</td>\n",
              "    </tr>\n",
              "    <tr>\n",
              "      <th>13</th>\n",
              "      <td>61.3793</td>\n",
              "      <td>-370.5110</td>\n",
              "    </tr>\n",
              "    <tr>\n",
              "      <th>14</th>\n",
              "      <td>63.7931</td>\n",
              "      <td>-309.7500</td>\n",
              "    </tr>\n",
              "    <tr>\n",
              "      <th>15</th>\n",
              "      <td>66.2069</td>\n",
              "      <td>-237.3370</td>\n",
              "    </tr>\n",
              "    <tr>\n",
              "      <th>16</th>\n",
              "      <td>68.6207</td>\n",
              "      <td>-153.2700</td>\n",
              "    </tr>\n",
              "    <tr>\n",
              "      <th>17</th>\n",
              "      <td>71.0345</td>\n",
              "      <td>-57.5505</td>\n",
              "    </tr>\n",
              "    <tr>\n",
              "      <th>18</th>\n",
              "      <td>73.4483</td>\n",
              "      <td>49.8216</td>\n",
              "    </tr>\n",
              "    <tr>\n",
              "      <th>19</th>\n",
              "      <td>75.8621</td>\n",
              "      <td>168.8470</td>\n",
              "    </tr>\n",
              "    <tr>\n",
              "      <th>20</th>\n",
              "      <td>78.2759</td>\n",
              "      <td>299.5240</td>\n",
              "    </tr>\n",
              "    <tr>\n",
              "      <th>21</th>\n",
              "      <td>80.6897</td>\n",
              "      <td>441.8550</td>\n",
              "    </tr>\n",
              "    <tr>\n",
              "      <th>22</th>\n",
              "      <td>83.1034</td>\n",
              "      <td>595.8380</td>\n",
              "    </tr>\n",
              "    <tr>\n",
              "      <th>23</th>\n",
              "      <td>85.5172</td>\n",
              "      <td>761.4740</td>\n",
              "    </tr>\n",
              "    <tr>\n",
              "      <th>24</th>\n",
              "      <td>87.9310</td>\n",
              "      <td>938.7630</td>\n",
              "    </tr>\n",
              "    <tr>\n",
              "      <th>25</th>\n",
              "      <td>90.3448</td>\n",
              "      <td>1127.7100</td>\n",
              "    </tr>\n",
              "    <tr>\n",
              "      <th>26</th>\n",
              "      <td>92.7586</td>\n",
              "      <td>1328.3000</td>\n",
              "    </tr>\n",
              "    <tr>\n",
              "      <th>27</th>\n",
              "      <td>95.1724</td>\n",
              "      <td>1540.5500</td>\n",
              "    </tr>\n",
              "    <tr>\n",
              "      <th>28</th>\n",
              "      <td>97.5862</td>\n",
              "      <td>1764.4500</td>\n",
              "    </tr>\n",
              "    <tr>\n",
              "      <th>29</th>\n",
              "      <td>100.0000</td>\n",
              "      <td>2000.0000</td>\n",
              "    </tr>\n",
              "  </tbody>\n",
              "</table>\n",
              "</div>\n",
              "      <button class=\"colab-df-convert\" onclick=\"convertToInteractive('df-7c895d78-95d5-4588-b253-2a29c14f4831')\"\n",
              "              title=\"Convert this dataframe to an interactive table.\"\n",
              "              style=\"display:none;\">\n",
              "        \n",
              "  <svg xmlns=\"http://www.w3.org/2000/svg\" height=\"24px\"viewBox=\"0 0 24 24\"\n",
              "       width=\"24px\">\n",
              "    <path d=\"M0 0h24v24H0V0z\" fill=\"none\"/>\n",
              "    <path d=\"M18.56 5.44l.94 2.06.94-2.06 2.06-.94-2.06-.94-.94-2.06-.94 2.06-2.06.94zm-11 1L8.5 8.5l.94-2.06 2.06-.94-2.06-.94L8.5 2.5l-.94 2.06-2.06.94zm10 10l.94 2.06.94-2.06 2.06-.94-2.06-.94-.94-2.06-.94 2.06-2.06.94z\"/><path d=\"M17.41 7.96l-1.37-1.37c-.4-.4-.92-.59-1.43-.59-.52 0-1.04.2-1.43.59L10.3 9.45l-7.72 7.72c-.78.78-.78 2.05 0 2.83L4 21.41c.39.39.9.59 1.41.59.51 0 1.02-.2 1.41-.59l7.78-7.78 2.81-2.81c.8-.78.8-2.07 0-2.86zM5.41 20L4 18.59l7.72-7.72 1.47 1.35L5.41 20z\"/>\n",
              "  </svg>\n",
              "      </button>\n",
              "      \n",
              "  <style>\n",
              "    .colab-df-container {\n",
              "      display:flex;\n",
              "      flex-wrap:wrap;\n",
              "      gap: 12px;\n",
              "    }\n",
              "\n",
              "    .colab-df-convert {\n",
              "      background-color: #E8F0FE;\n",
              "      border: none;\n",
              "      border-radius: 50%;\n",
              "      cursor: pointer;\n",
              "      display: none;\n",
              "      fill: #1967D2;\n",
              "      height: 32px;\n",
              "      padding: 0 0 0 0;\n",
              "      width: 32px;\n",
              "    }\n",
              "\n",
              "    .colab-df-convert:hover {\n",
              "      background-color: #E2EBFA;\n",
              "      box-shadow: 0px 1px 2px rgba(60, 64, 67, 0.3), 0px 1px 3px 1px rgba(60, 64, 67, 0.15);\n",
              "      fill: #174EA6;\n",
              "    }\n",
              "\n",
              "    [theme=dark] .colab-df-convert {\n",
              "      background-color: #3B4455;\n",
              "      fill: #D2E3FC;\n",
              "    }\n",
              "\n",
              "    [theme=dark] .colab-df-convert:hover {\n",
              "      background-color: #434B5C;\n",
              "      box-shadow: 0px 1px 3px 1px rgba(0, 0, 0, 0.15);\n",
              "      filter: drop-shadow(0px 1px 2px rgba(0, 0, 0, 0.3));\n",
              "      fill: #FFFFFF;\n",
              "    }\n",
              "  </style>\n",
              "\n",
              "      <script>\n",
              "        const buttonEl =\n",
              "          document.querySelector('#df-7c895d78-95d5-4588-b253-2a29c14f4831 button.colab-df-convert');\n",
              "        buttonEl.style.display =\n",
              "          google.colab.kernel.accessAllowed ? 'block' : 'none';\n",
              "\n",
              "        async function convertToInteractive(key) {\n",
              "          const element = document.querySelector('#df-7c895d78-95d5-4588-b253-2a29c14f4831');\n",
              "          const dataTable =\n",
              "            await google.colab.kernel.invokeFunction('convertToInteractive',\n",
              "                                                     [key], {});\n",
              "          if (!dataTable) return;\n",
              "\n",
              "          const docLinkHtml = 'Like what you see? Visit the ' +\n",
              "            '<a target=\"_blank\" href=https://colab.research.google.com/notebooks/data_table.ipynb>data table notebook</a>'\n",
              "            + ' to learn more about interactive tables.';\n",
              "          element.innerHTML = '';\n",
              "          dataTable['output_type'] = 'display_data';\n",
              "          await google.colab.output.renderOutput(dataTable, element);\n",
              "          const docLink = document.createElement('div');\n",
              "          docLink.innerHTML = docLinkHtml;\n",
              "          element.appendChild(docLink);\n",
              "        }\n",
              "      </script>\n",
              "    </div>\n",
              "  </div>\n",
              "  "
            ]
          },
          "metadata": {},
          "execution_count": 2
        }
      ],
      "source": [
        "url = 'https://raw.githubusercontent.com/nttuan8/DL_Tutorial/master/L1/data_square.csv'\n",
        "data = pd.read_csv(url)\n",
        "data.rename(columns = {'Diện tích':'Area', 'Giá nhà':'Price'}, inplace = True)\n",
        "data"
      ]
    },
    {
      "cell_type": "code",
      "execution_count": null,
      "id": "c5984771",
      "metadata": {
        "id": "c5984771"
      },
      "outputs": [],
      "source": [
        "%matplotlib inline"
      ]
    },
    {
      "cell_type": "code",
      "execution_count": null,
      "id": "0e2730a5",
      "metadata": {
        "colab": {
          "base_uri": "https://localhost:8080/",
          "height": 366
        },
        "id": "0e2730a5",
        "outputId": "ba0dccd2-b12c-4f60-8e9d-ed0f7378c43b"
      },
      "outputs": [
        {
          "output_type": "stream",
          "name": "stdout",
          "text": [
            "Estimated coefficients : \n",
            "b_0 = -1788.5078219018988 \n",
            "b_1 = 30.00003628567024\n",
            "\n",
            "Model:\n"
          ]
        },
        {
          "output_type": "display_data",
          "data": {
            "text/plain": [
              "<Figure size 432x288 with 1 Axes>"
            ],
            "image/png": "[encoded data removed]"
          },
          "metadata": {
            "needs_background": "light"
          }
        }
      ],
      "source": [
        "def estimate_coef(x, y):\n",
        "    # number of observations (points)\n",
        "    n = np.size(x)\n",
        "    # mean of X and Y vector\n",
        "    x_bar = np.mean(x)\n",
        "    y_bar = np.mean(y)\n",
        "    # deviation of x\n",
        "    SS_xy = np.sum(x*y) - n*x_bar*y_bar\n",
        "    SS_xx = np.sum(x*x) - n*x_bar*x_bar\n",
        "    # coefficients\n",
        "    b_1 = SS_xy / SS_xx\n",
        "    b_0 = y_bar - b_1*x_bar\n",
        "    \n",
        "    return (b_0, b_1)\n",
        "    \n",
        "def plot_regression_line(x, y, b):\n",
        "    # show the actual points as scatter plot\n",
        "    plt.scatter(x, y, color = \"m\", marker = \".\", s =30)\n",
        "    y_pred = b[0] + b[1]*x\n",
        "    # plot the regression line\n",
        "    plt.plot(x, y_pred, color = \"g\")\n",
        "    plt.xlabel('Area')\n",
        "    plt.ylabel('Price')\n",
        "    plt.show()\n",
        "    \n",
        "def main():\n",
        "    x = data['Area']\n",
        "    y = data['Price']\n",
        "    \n",
        "    b = estimate_coef(x, y)\n",
        "    print(\"Estimated coefficients : \\nb_0 = {} \\nb_1 = {}\".format(b[0], b[1])) \n",
        "    \n",
        "    print(\"\\nModel:\")\n",
        "    plot_regression_line(x, y, b)\n",
        "    \n",
        "if __name__ == \"__main__\":\n",
        "    main()"
      ]
    },
    {
      "cell_type": "markdown",
      "source": [
        "***Exercise 2***"
      ],
      "metadata": {
        "id": "xA7ij1wfLpx2"
      },
      "id": "xA7ij1wfLpx2"
    },
    {
      "cell_type": "code",
      "execution_count": null,
      "id": "2370634a",
      "metadata": {
        "colab": {
          "base_uri": "https://localhost:8080/",
          "height": 411
        },
        "id": "2370634a",
        "outputId": "9c7c6844-079c-44ae-a4fb-af0d3586622e"
      },
      "outputs": [
        {
          "output_type": "execute_result",
          "data": {
            "text/plain": [
              "(-2.0, 2.0)"
            ]
          },
          "metadata": {},
          "execution_count": 6
        },
        {
          "output_type": "display_data",
          "data": {
            "text/plain": [
              "<Figure size 432x432 with 1 Axes>"
            ],
            "image/png": "[encoded data removed]"
          },
          "metadata": {
            "needs_background": "light"
          }
        }
      ],
      "source": [
        "np.random.seed(123)\n",
        "MARKER_SIZE = 100\n",
        "DATA_COLOR = 'green'\n",
        "ERROR_COLOR = 'darkred'\n",
        "POLYNOMIAL_FIT_COLORS = ['orange', 'royalblue', 'darkgreen']\n",
        "LEGEND_FONTSIZE = 14\n",
        "TITLE_FONTISIZE = 16\n",
        "N_OBSERVATIONS = 10\n",
        "NOISE_STD = 1.\n",
        "\n",
        "x = 2 * (np.random.rand(N_OBSERVATIONS) - .5)\n",
        "x_grid = np.linspace(-1, 1, 100)\n",
        "\n",
        "def f(x):\n",
        "    \"\"\"Base function\"\"\"\n",
        "    return np.sin(x *np.pi)\n",
        "\n",
        "def sample_fx_data(shape, noise_std=NOISE_STD):\n",
        "    return f(x) + np.random.randn(*shape) * noise_std\n",
        "\n",
        "def plot_fx_data(y=None):\n",
        "    \"\"\"Plot f(x) and noisy samples\"\"\"\n",
        "    y = y if y is not None else sample_fx_data(x.shape)\n",
        "    fig, axs = plt.subplots(figsize=(6, 6))\n",
        "    plt.plot(x_grid, f(x_grid), color=DATA_COLOR, label='f(x)')\n",
        "    plt.scatter(x, y, marker = \"o\", color = \"b\", label='y')\n",
        "\n",
        "# plot the data\n",
        "y = sample_fx_data(x.shape)\n",
        "plot_fx_data(y)\n",
        "plt.legend(fontsize=14)\n",
        "plt.title(f'$f(x) = sin(\\pi x)$ and some observations, $y$', fontsize=16)\n",
        "plt.xlim([-1, 1])\n",
        "plt.ylim([-2, 2])"
      ]
    },
    {
      "cell_type": "code",
      "execution_count": null,
      "id": "d642d968",
      "metadata": {
        "colab": {
          "base_uri": "https://localhost:8080/",
          "height": 444
        },
        "id": "d642d968",
        "outputId": "7eaf91cf-66d5-408e-f996-d51e36eb291d"
      },
      "outputs": [
        {
          "output_type": "stream",
          "name": "stderr",
          "text": [
            "/usr/local/lib/python3.7/dist-packages/IPython/core/interactiveshell.py:3326: RankWarning: Polyfit may be poorly conditioned\n",
            "  exec(code_obj, self.user_global_ns, self.user_ns)\n"
          ]
        },
        {
          "output_type": "execute_result",
          "data": {
            "text/plain": [
              "Text(0.5, 1.0, 'Various Polynomial Functions Fit to Observations')"
            ]
          },
          "metadata": {},
          "execution_count": 7
        },
        {
          "output_type": "display_data",
          "data": {
            "text/plain": [
              "<Figure size 432x432 with 1 Axes>"
            ],
            "image/png": "[encoded data removed]"
          },
          "metadata": {
            "needs_background": "light"
          }
        }
      ],
      "source": [
        "plot_fx_data(y)\n",
        "\n",
        "polynomial_degrees = [1, 3, 10]\n",
        "theta = {}\n",
        "fit = {}\n",
        "for ii, degree in enumerate(polynomial_degrees):\n",
        "    # we should get an overconditioned warning for degree 10 because of extreme overfitting\n",
        "    theta[degree] = np.polyfit(x, y, degree)\n",
        "    fit[degree] = np.polyval(theta[degree], x_grid)\n",
        "    plt.plot(x_grid, fit[degree], POLYNOMIAL_FIT_COLORS[ii], label=f\"$g_(x)$\")\n",
        "plt.legend(fontsize=LEGEND_FONTSIZE)\n",
        "plt.xlim([-1, 1])\n",
        "plt.ylim([-2, 2])\n",
        "plt.title(\"Various Polynomial Functions Fit to Observations\", fontsize=TITLE_FONTISIZE)"
      ]
    },
    {
      "cell_type": "code",
      "execution_count": null,
      "id": "9d515b2c",
      "metadata": {
        "id": "9d515b2c"
      },
      "outputs": [],
      "source": []
    }
  ],
  "metadata": {
    "kernelspec": {
      "display_name": "Python 3 (ipykernel)",
      "language": "python",
      "name": "python3"
    },
    "language_info": {
      "codemirror_mode": {
        "name": "ipython",
        "version": 3
      },
      "file_extension": ".py",
      "mimetype": "text/x-python",
      "name": "python",
      "nbconvert_exporter": "python",
      "pygments_lexer": "ipython3",
      "version": "3.9.12"
    },
    "colab": {
      "provenance": []
    }
  },
  "nbformat": 4,
  "nbformat_minor": 5
}