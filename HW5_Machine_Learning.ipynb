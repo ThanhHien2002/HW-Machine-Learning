{
  "cells": [
    {
      "cell_type": "code",
      "execution_count": 2,
      "id": "f28e6de6",
      "metadata": {
        "colab": {
          "base_uri": "https://localhost:8080/",
          "height": 296
        },
        "id": "f28e6de6",
        "outputId": "f71c7453-0360-4d49-a990-61d3265ee4d3"
      },
      "outputs": [
        {
          "output_type": "display_data",
          "data": {
            "text/plain": [
              "<Figure size 432x288 with 1 Axes>"
            ],
            "image/png": "[encoded data removed]"
          },
          "metadata": {
            "needs_background": "light"
          }
        }
      ],
      "source": [
        "import pandas as pd\n",
        "import numpy as np\n",
        "import matplotlib.pyplot as plt\n",
        "\n",
        "# Sigmoid function\n",
        "def sigmoid(x):\n",
        "  return 1 / (1 + np.exp(-x))\n",
        "# read data\n",
        "data = pd.read_csv('https://raw.githubusercontent.com/nttuan8/DL_Tutorial/master/L2/dataset.csv').values\n",
        "# data\n",
        "N, d = data.shape\n",
        "x = data[:,0:d-1].reshape(-1, d-1)\n",
        "y = data[:, 2].reshape(-1, 1)\n",
        "# scatter plot\n",
        "x_cho_vay = x[y[:, 0] == 1]\n",
        "x_khong_cho_vay = x[y[:,0] == 0]\n",
        "plt.scatter(x_cho_vay[:, 0], x_cho_vay[:, 1] , c ='green', s =32, label = 'Cho vay')\n",
        "plt.scatter(x_khong_cho_vay[:, 0], x_khong_cho_vay[:, 1] , c ='blue', s =32, label = 'Khong Cho vay')\n",
        "plt.xlabel(\"Mức lương (triệu)\")\n",
        "plt.ylabel(\"Kinh nghiệm (năm)\")\n",
        "plt.title('Cho vay')\n",
        "\n",
        "# add a column 1 into x\n",
        "x = np.hstack((np.ones((N, 1)), x))\n",
        "w = np.array([0., 0.1, 0.1]).reshape(-1, 1)\n",
        "# number of iteration\n",
        "numIteration = 1000\n",
        "cost = np.zeros((numIteration, 1))\n",
        "learning_rate = 0.01\n",
        "for i in range(1, numIteration):\n",
        "  y_predict = sigmoid(np.dot(x, w))\n",
        "  cost[i] = -np.sum(np.multiply(y, np.log(y_predict)) + np.multiply(1-y, np.log(1-y_predict)))\n",
        "  # Gradient descent\n",
        "  w = w - learning_rate*np.dot(x.T, y_predict-y)\n",
        "    \n",
        "# boundary\n",
        "t = 0.5\n",
        "plt.plot((4, 10),(-(w[0]+4*w[1]+ np.log(1/t-1))/w[2], -(w[0] + 10*w[1]+ np.log(1/t-1))/w[2]), 'red')\n",
        "plt.show()"
      ]
    }
  ],
  "metadata": {
    "kernelspec": {
      "display_name": "Python 3 (ipykernel)",
      "language": "python",
      "name": "python3"
    },
    "language_info": {
      "codemirror_mode": {
        "name": "ipython",
        "version": 3
      },
      "file_extension": ".py",
      "mimetype": "text/x-python",
      "name": "python",
      "nbconvert_exporter": "python",
      "pygments_lexer": "ipython3",
      "version": "3.9.12"
    },
    "colab": {
      "provenance": []
    }
  },
  "nbformat": 4,
  "nbformat_minor": 5
}